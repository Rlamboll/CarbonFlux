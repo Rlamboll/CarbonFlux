{
 "metadata": {
  "language_info": {
   "codemirror_mode": {
    "name": "ipython",
    "version": 3
   },
   "file_extension": ".py",
   "mimetype": "text/x-python",
   "name": "python",
   "nbconvert_exporter": "python",
   "pygments_lexer": "ipython3",
   "version": "3.8.2-final"
  },
  "orig_nbformat": 2,
  "kernelspec": {
   "name": "Python 3.8.2 64-bit ('venv': venv)",
   "display_name": "Python 3.8.2 64-bit ('venv': venv)",
   "metadata": {
    "interpreter": {
     "hash": "f40376aba8fa6853917df34b9fb4e47f4b3a416a249cbb1a50a952bc48790582"
    }
   }
  }
 },
 "nbformat": 4,
 "nbformat_minor": 2,
 "cells": [
  {
   "cell_type": "code",
   "execution_count": 9,
   "metadata": {},
   "outputs": [
    {
     "output_type": "stream",
     "name": "stdout",
     "text": [
      "49\n"
     ]
    }
   ],
   "source": [
    "from flux_tower import extract_towers, FluxTower\n",
    "\n",
    "# Get towers from file\n",
    "from grid_api import GridApi\n",
    "\n",
    "# Load towers from file\n",
    "towers = extract_towers('cali_towers.csv')\n",
    "print(len(towers))\n",
    "\n",
    "\n"
   ]
  },
  {
   "cell_type": "code",
   "execution_count": 13,
   "metadata": {},
   "outputs": [
    {
     "output_type": "stream",
     "name": "stdout",
     "text": [
      "38\n"
     ]
    }
   ],
   "source": [
    "# Extract for years that have data\n",
    "filtered_towers = filter(FluxTower.useful_tower, towers)\n",
    "print(len(list(filtered_towers)))\n",
    "\n",
    "\n",
    "\n"
   ]
  },
  {
   "cell_type": "code",
   "execution_count": 14,
   "metadata": {},
   "outputs": [],
   "source": [
    "# Set up grid api (optionally add precision here)\n",
    "grid_api = GridApi()\n",
    "\n",
    "# Pick variables for the grid API\n",
    "grid_vars = ['xco2', 'wind_speed']"
   ]
  },
  {
   "cell_type": "code",
   "execution_count": null,
   "metadata": {},
   "outputs": [],
   "source": [
    "# Retrieve data surrounding towers\n",
    "tower_responses = []\n",
    "for tower in towers:\n",
    "    resp = grid_api.get_tower_query(towers[1], grid_vars)\n",
    "    tower_responses.append(resp.text)\n",
    "    print(resp.text)\n",
    "    print(resp.content)"
   ]
  }
 ]
}